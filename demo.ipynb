{
 "cells": [
  {
   "cell_type": "code",
   "execution_count": 6,
   "id": "9bc60f24",
   "metadata": {},
   "outputs": [],
   "source": [
    "from model_util import ModelSpatialSteer, ModelSpatial, ClassicalCNN, ModelVoxel\n",
    "import torch\n",
    "from torch.utils.data import Dataset, DataLoader"
   ]
  },
  {
   "cell_type": "code",
   "execution_count": 7,
   "id": "6de7fc2a",
   "metadata": {},
   "outputs": [],
   "source": [
    "device = \"cuda:0\" if torch.cuda.is_available() else \"cpu\""
   ]
  },
  {
   "cell_type": "code",
   "execution_count": 8,
   "id": "2e774c13",
   "metadata": {},
   "outputs": [],
   "source": [
    "# Arguments that the networks require. Some of them are only for logging the information.\n",
    "class args:\n",
    "    num_shells = 1\n",
    "    ray_len = None\n",
    "    num_rays = 5\n",
    "    samples_per_ray = 2\n",
    "    b_size = 10\n",
    "    watson_param = 10\n",
    "    num_epoch = 10\n",
    "    lr = 0.001\n",
    "    model_capacity = 'smalls'\n",
    "    data_aug = False\n",
    "    iter = 100\n",
    "    pooling = 'max'\n",
    "    bias = True\n",
    "    spatial_kernel_size = [3, 3, 3]\n",
    "    lin_bias = True\n",
    "    lin_bn = True\n",
    "    spatial_bias = True"
   ]
  },
  {
   "cell_type": "markdown",
   "id": "d6e20880",
   "metadata": {},
   "source": [
    "# Synthetic dataset for the SE(3) Goup CNN and the T<sup>3</sup> x SO(3) Group CNN"
   ]
  },
  {
   "cell_type": "code",
   "execution_count": 9,
   "id": "12b6d054",
   "metadata": {},
   "outputs": [],
   "source": [
    "class SE3Dataset(Dataset):\n",
    "    def __init__(self):\n",
    "        self.data = torch.rand(100, 12, 11, 1, 7, 7, 7)  # A grid of interpolated spherical functions\n",
    "        self.labels = torch.randint(4, (100,))\n",
    "\n",
    "    def __len__(self):\n",
    "        return len(self.labels)\n",
    "\n",
    "    def __getitem__(self, idx):\n",
    "\n",
    "        return self.data[idx], self.labels[idx]"
   ]
  },
  {
   "cell_type": "markdown",
   "id": "6c363196",
   "metadata": {},
   "source": [
    "# Synthetic dataset for the SO(3) Group CNN"
   ]
  },
  {
   "cell_type": "code",
   "execution_count": 10,
   "id": "c804707a",
   "metadata": {},
   "outputs": [],
   "source": [
    "class SO3Dataset(Dataset):\n",
    "    def __init__(self):\n",
    "        self.data = torch.rand(100, 12, 11, 1, 1, 1, 1)  # Individual spherical functions from each voxel\n",
    "        self.labels = torch.randint(4, (100,))\n",
    "\n",
    "    def __len__(self):\n",
    "        return len(self.labels)\n",
    "\n",
    "    def __getitem__(self, idx):\n",
    "\n",
    "        return self.data[idx], self.labels[idx]"
   ]
  },
  {
   "cell_type": "markdown",
   "id": "e09534e9",
   "metadata": {},
   "source": [
    "# Synthetic dataset for the Classical CNN"
   ]
  },
  {
   "cell_type": "code",
   "execution_count": 12,
   "id": "72ee128a",
   "metadata": {},
   "outputs": [],
   "source": [
    "class ClassicalDataset(Dataset):\n",
    "    def __init__(self):\n",
    "        self.data = torch.rand(100, 90, 7, 7, 7)  # A grid of voxels\n",
    "        self.labels = torch.randint(4, (100,))\n",
    "\n",
    "    def __len__(self):\n",
    "        return len(self.labels)\n",
    "\n",
    "    def __getitem__(self, idx):\n",
    "\n",
    "        return self.data[idx], self.labels[idx]"
   ]
  },
  {
   "cell_type": "code",
   "execution_count": 13,
   "id": "00e8abf0",
   "metadata": {},
   "outputs": [],
   "source": [
    "se3_dataset = SE3Dataset()\n",
    "se3_dl = DataLoader(se3_dataset, batch_size=10, shuffle=True)"
   ]
  },
  {
   "cell_type": "code",
   "execution_count": 14,
   "id": "fdcdc541",
   "metadata": {},
   "outputs": [],
   "source": [
    "so3_dataset = SO3Dataset()\n",
    "so3_dl = DataLoader(so3_dataset, batch_size=10, shuffle=True)"
   ]
  },
  {
   "cell_type": "code",
   "execution_count": 15,
   "id": "74ff3ca4",
   "metadata": {},
   "outputs": [],
   "source": [
    "classical_dataset = ClassicalDataset()\n",
    "classical_dl = DataLoader(classical_dataset, batch_size=10, shuffle=True)"
   ]
  },
  {
   "cell_type": "markdown",
   "id": "4817a976",
   "metadata": {},
   "source": [
    "# Demo to run the SE(3) Goup CNN (Ours)"
   ]
  },
  {
   "cell_type": "code",
   "execution_count": 16,
   "id": "e88cd58a",
   "metadata": {},
   "outputs": [
    {
     "name": "stdout",
     "output_type": "stream",
     "text": [
      "Clockwise ring, making it counterclockwise.\n",
      "Clockwise ring, making it counterclockwise.\n",
      "Clockwise ring, making it counterclockwise.\n",
      "Clockwise ring, making it counterclockwise.\n",
      "Clockwise ring, making it counterclockwise.\n",
      "Clockwise ring, making it counterclockwise.\n"
     ]
    },
    {
     "name": "stderr",
     "output_type": "stream",
     "text": [
      "/Users/iganarendra/miniconda3/envs/se3/lib/python3.8/site-packages/torch/nn/functional.py:4434: UserWarning: Default grid_sample and affine_grid behavior has changed to align_corners=False since 1.3.0. Please specify align_corners=True if the old behavior is desired. See the documentation of grid_sample for details.\n",
      "  warnings.warn(\n"
     ]
    }
   ],
   "source": [
    "model_se3 = ModelSpatialSteer(args, device=device, full_group=True)"
   ]
  },
  {
   "cell_type": "code",
   "execution_count": 17,
   "id": "1ff1677d",
   "metadata": {
    "scrolled": true
   },
   "outputs": [
    {
     "name": "stderr",
     "output_type": "stream",
     "text": [
      "/Users/iganarendra/miniconda3/envs/se3/lib/python3.8/site-packages/torch/nn/functional.py:4373: UserWarning: Default grid_sample and affine_grid behavior has changed to align_corners=False since 1.3.0. Please specify align_corners=True if the old behavior is desired. See the documentation of grid_sample for details.\n",
      "  warnings.warn(\n"
     ]
    },
    {
     "name": "stdout",
     "output_type": "stream",
     "text": [
      "torch.Size([10, 4])\n",
      "torch.Size([10, 4])\n",
      "torch.Size([10, 4])\n",
      "torch.Size([10, 4])\n",
      "torch.Size([10, 4])\n",
      "torch.Size([10, 4])\n",
      "torch.Size([10, 4])\n",
      "torch.Size([10, 4])\n",
      "torch.Size([10, 4])\n",
      "torch.Size([10, 4])\n"
     ]
    }
   ],
   "source": [
    "model_se3 = model_se3.to(device)\n",
    "for data, label in se3_dl:\n",
    "    data = data.to(device)\n",
    "    out = model_se3(data)\n",
    "    print(out.shape)"
   ]
  },
  {
   "cell_type": "markdown",
   "id": "97c64fb0",
   "metadata": {},
   "source": [
    "# Demo to run the T<sup>3</sup> x SO(3) Group CNN (OursDecoupled)"
   ]
  },
  {
   "cell_type": "code",
   "execution_count": 18,
   "id": "26e70e24",
   "metadata": {},
   "outputs": [],
   "source": [
    "model_decoupled = ModelSpatial(args)"
   ]
  },
  {
   "cell_type": "code",
   "execution_count": 19,
   "id": "7801fcc0",
   "metadata": {
    "scrolled": true
   },
   "outputs": [
    {
     "name": "stdout",
     "output_type": "stream",
     "text": [
      "torch.Size([10, 4])\n",
      "torch.Size([10, 4])\n",
      "torch.Size([10, 4])\n",
      "torch.Size([10, 4])\n",
      "torch.Size([10, 4])\n",
      "torch.Size([10, 4])\n",
      "torch.Size([10, 4])\n",
      "torch.Size([10, 4])\n",
      "torch.Size([10, 4])\n",
      "torch.Size([10, 4])\n"
     ]
    }
   ],
   "source": [
    "model_decoupled = model_decoupled.to(device)\n",
    "for data, label in se3_dl:\n",
    "    data = data.to(device)\n",
    "    out = model_decoupled(data)\n",
    "    print(out.shape)"
   ]
  },
  {
   "cell_type": "markdown",
   "id": "05429347",
   "metadata": {},
   "source": [
    "# Demo to run the SO(3) Group CNN (Baseline)"
   ]
  },
  {
   "cell_type": "code",
   "execution_count": 20,
   "id": "f7811388",
   "metadata": {},
   "outputs": [],
   "source": [
    "model_so3 = ModelVoxel(args)"
   ]
  },
  {
   "cell_type": "code",
   "execution_count": 21,
   "id": "436d0cde",
   "metadata": {
    "scrolled": true
   },
   "outputs": [
    {
     "name": "stdout",
     "output_type": "stream",
     "text": [
      "torch.Size([10, 4])\n",
      "torch.Size([10, 4])\n",
      "torch.Size([10, 4])\n",
      "torch.Size([10, 4])\n",
      "torch.Size([10, 4])\n",
      "torch.Size([10, 4])\n",
      "torch.Size([10, 4])\n",
      "torch.Size([10, 4])\n",
      "torch.Size([10, 4])\n",
      "torch.Size([10, 4])\n"
     ]
    }
   ],
   "source": [
    "model_so3 = model_so3.to(device)\n",
    "for data, label in so3_dl:\n",
    "    data = data.to(device)\n",
    "    out = model_so3(data)\n",
    "    print(out.shape)"
   ]
  },
  {
   "cell_type": "markdown",
   "id": "ae5e7f6f",
   "metadata": {},
   "source": [
    "# Demo to run the Classical CNN"
   ]
  },
  {
   "cell_type": "code",
   "execution_count": 22,
   "id": "dc1efd1d",
   "metadata": {},
   "outputs": [],
   "source": [
    "model_classical = ClassicalCNN(args)"
   ]
  },
  {
   "cell_type": "code",
   "execution_count": 23,
   "id": "32ae9cf8",
   "metadata": {},
   "outputs": [
    {
     "name": "stdout",
     "output_type": "stream",
     "text": [
      "torch.Size([10, 4])\n",
      "torch.Size([10, 4])\n",
      "torch.Size([10, 4])\n",
      "torch.Size([10, 4])\n",
      "torch.Size([10, 4])\n",
      "torch.Size([10, 4])\n",
      "torch.Size([10, 4])\n",
      "torch.Size([10, 4])\n",
      "torch.Size([10, 4])\n",
      "torch.Size([10, 4])\n"
     ]
    }
   ],
   "source": [
    "model_classical = model_classical.to(device)\n",
    "for data, label in classical_dl:\n",
    "    data = data.to(device)\n",
    "    out = model_classical(data)\n",
    "    print(out.shape)"
   ]
  }
 ],
 "metadata": {
  "kernelspec": {
   "display_name": "se3",
   "language": "python",
   "name": "python3"
  },
  "language_info": {
   "codemirror_mode": {
    "name": "ipython",
    "version": 3
   },
   "file_extension": ".py",
   "mimetype": "text/x-python",
   "name": "python",
   "nbconvert_exporter": "python",
   "pygments_lexer": "ipython3",
   "version": "3.8.20"
  }
 },
 "nbformat": 4,
 "nbformat_minor": 5
}
